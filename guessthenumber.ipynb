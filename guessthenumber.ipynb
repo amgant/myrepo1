{
 "cells": [
  {
   "cell_type": "code",
   "execution_count": 2,
   "metadata": {},
   "outputs": [
    {
     "name": "stdout",
     "output_type": "stream",
     "text": [
      "The number 50 was too big.\n",
      "The number 30 was too small.\n",
      "The number 40 was too small.\n",
      "The number 45 was too small.\n",
      "The number 47 was too small.\n",
      "The number 49 was too big.\n",
      "Correct! 48 was the number you were looking for.\n"
     ]
    }
   ],
   "source": [
    "#guess the number game!!!! :D\n",
    "import random\n",
    "\n",
    "secret_number = random.randint(1, 100)\n",
    "\n",
    "guessed_number = int(input(\"Please guess a number between 1 and 100: \"))\n",
    "\n",
    "while guessed_number != secret_number:\n",
    "    if guessed_number < secret_number:\n",
    "        print(\"The number\", guessed_number, \"was too small.\")\n",
    "    else:\n",
    "        print(\"The number\", guessed_number, \"was too big.\")\n",
    "\n",
    "    guessed_number = int(input(\"Please guess a number: \"))\n",
    "\n",
    "print(\"Correct!\", guessed_number, \"was the number you were looking for.\")"
   ]
  }
 ],
 "metadata": {
  "kernelspec": {
   "display_name": "base",
   "language": "python",
   "name": "python3"
  },
  "language_info": {
   "codemirror_mode": {
    "name": "ipython",
    "version": 3
   },
   "file_extension": ".py",
   "mimetype": "text/x-python",
   "name": "python",
   "nbconvert_exporter": "python",
   "pygments_lexer": "ipython3",
   "version": "3.9.12"
  }
 },
 "nbformat": 4,
 "nbformat_minor": 2
}
