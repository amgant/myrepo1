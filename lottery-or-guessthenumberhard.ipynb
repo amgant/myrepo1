{
 "cells": [
  {
   "cell_type": "code",
   "execution_count": 3,
   "metadata": {},
   "outputs": [
    {
     "name": "stdout",
     "output_type": "stream",
     "text": [
      "You lose! The number was 3\n"
     ]
    }
   ],
   "source": [
    "import random\n",
    "\n",
    "def guessing_game():\n",
    "    num = random.randint(1, 10)\n",
    "\n",
    "    guess = int(input('Guess a number between 1 and 10. '))\n",
    "    times = 1\n",
    "\n",
    "    while guess != num:\n",
    "        guess = int(input('Guess again. '))\n",
    "        times += 1\n",
    "        if times == 3:\n",
    "            break\n",
    "\n",
    "    if guess == num:\n",
    "        print('You win! ')\n",
    "    else:\n",
    "        print('You lose! The number was', num)\n",
    "    \n",
    "\n",
    "def lotto_numbers():\n",
    "    lotto_nums = []\n",
    "    for i in range(5):\n",
    "        lotto_nums.append(random.randint(1, 53)) \n",
    "    \n",
    "    return lotto_nums\n",
    "  \n",
    "def main():\n",
    "    answer = input('Do you want to get lottery numbers (1) or play the game (2) or quit (Q)? ')\n",
    "    if answer == \"1\":\n",
    "      numbers = lotto_numbers()\n",
    "      print(numbers)\n",
    "    elif answer == \"2\":\n",
    "      guessing_game()\n",
    "    else:\n",
    "      print('Toodles!')\n",
    "    \n",
    "main()"
   ]
  }
 ],
 "metadata": {
  "kernelspec": {
   "display_name": "base",
   "language": "python",
   "name": "python3"
  },
  "language_info": {
   "codemirror_mode": {
    "name": "ipython",
    "version": 3
   },
   "file_extension": ".py",
   "mimetype": "text/x-python",
   "name": "python",
   "nbconvert_exporter": "python",
   "pygments_lexer": "ipython3",
   "version": "3.9.12"
  }
 },
 "nbformat": 4,
 "nbformat_minor": 2
}
